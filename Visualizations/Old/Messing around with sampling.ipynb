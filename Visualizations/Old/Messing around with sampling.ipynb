{
 "cells": [
  {
   "cell_type": "code",
   "execution_count": 3,
   "metadata": {
    "ExecuteTime": {
     "end_time": "2020-01-20T19:47:04.643314Z",
     "start_time": "2020-01-20T19:47:04.635301Z"
    }
   },
   "outputs": [],
   "source": [
    "import numpy as np\n",
    "import matplotlib.pyplot as plt\n",
    "%matplotlib inline"
   ]
  },
  {
   "cell_type": "code",
   "execution_count": 4,
   "metadata": {
    "ExecuteTime": {
     "end_time": "2020-01-20T19:47:06.236878Z",
     "start_time": "2020-01-20T19:47:06.078303Z"
    }
   },
   "outputs": [
    {
     "data": {
      "text/plain": [
       "(array([145., 112., 118.,  97.,  94.,  91.,  91.,  88.,  84.,  80.]),\n",
       " array([0.79456158, 0.84096449, 0.8873674 , 0.9337703 , 0.98017321,\n",
       "        1.02657612, 1.07297903, 1.11938194, 1.16578485, 1.21218776,\n",
       "        1.25859067]),\n",
       " <a list of 10 Patch objects>)"
      ]
     },
     "execution_count": 4,
     "metadata": {},
     "output_type": "execute_result"
    },
    {
     "data": {
      "image/png": "[encoded data removed]",
      "text/plain": [
       "<Figure size 432x288 with 1 Axes>"
      ]
     },
     "metadata": {
      "needs_background": "light"
     },
     "output_type": "display_data"
    }
   ],
   "source": [
    "\n",
    "\n",
    "def sample(num):\n",
    "    x = 1\n",
    "#     y = 100\n",
    "    thetas = []\n",
    "    for i in range(num):\n",
    "#         logx = np.log10(x)\n",
    "    #     print(logx)\n",
    "#         log_theta = np.random.uniform(logx-.1,logx+.1) \n",
    "    #     print(log_theta)\n",
    "#         theta = 2**log_theta\n",
    "#         theta = np.random.uniform(x-1,x+1) \n",
    "        theta = 10**(np.random.uniform(np.log10(x)-.1,np.log10(x)+.1))\n",
    "#         theta = np.random.poisson(x)\n",
    "\n",
    "\n",
    "\n",
    "    #     print(theta)\n",
    "        thetas.append(theta)\n",
    "    return thetas\n",
    "\n",
    "test = sample(1000)\n",
    "# print(test)\n",
    "plt.hist(test)"
   ]
  }
 ],
 "metadata": {
  "hide_input": false,
  "kernelspec": {
   "display_name": "Python 3",
   "language": "python",
   "name": "python3"
  },
  "language_info": {
   "codemirror_mode": {
    "name": "ipython",
    "version": 3
   },
   "file_extension": ".py",
   "mimetype": "text/x-python",
   "name": "python",
   "nbconvert_exporter": "python",
   "pygments_lexer": "ipython3",
   "version": "3.6.6"
  },
  "latex_envs": {
   "LaTeX_envs_menu_present": true,
   "autocomplete": true,
   "bibliofile": "biblio.bib",
   "cite_by": "apalike",
   "current_citInitial": 1,
   "eqLabelWithNumbers": true,
   "eqNumInitial": 1,
   "hotkeys": {
    "equation": "Ctrl-E",
    "itemize": "Ctrl-I"
   },
   "labels_anchors": false,
   "latex_user_defs": false,
   "report_style_numbering": false,
   "user_envs_cfg": false
  },
  "toc": {
   "colors": {
    "hover_highlight": "#DAA520",
    "navigate_num": "#000000",
    "navigate_text": "#333333",
    "running_highlight": "#FF0000",
    "selected_highlight": "#FFD700",
    "sidebar_border": "#EEEEEE",
    "wrapper_background": "#FFFFFF"
   },
   "moveMenuLeft": true,
   "nav_menu": {
    "height": "11.9792px",
    "width": "251.979px"
   },
   "navigate_menu": true,
   "number_sections": true,
   "sideBar": true,
   "threshold": 4,
   "toc_cell": false,
   "toc_section_display": "block",
   "toc_window_display": false,
   "widenNotebook": false
  },
  "varInspector": {
   "cols": {
    "lenName": 16,
    "lenType": 16,
    "lenVar": 40
   },
   "kernels_config": {
    "python": {
     "delete_cmd_postfix": "",
     "delete_cmd_prefix": "del ",
     "library": "var_list.py",
     "varRefreshCmd": "print(var_dic_list())"
    },
    "r": {
     "delete_cmd_postfix": ") ",
     "delete_cmd_prefix": "rm(",
     "library": "var_list.r",
     "varRefreshCmd": "cat(var_dic_list()) "
    }
   },
   "types_to_exclude": [
    "module",
    "function",
    "builtin_function_or_method",
    "instance",
    "_Feature"
   ],
   "window_display": false
  }
 },
 "nbformat": 4,
 "nbformat_minor": 2
}
