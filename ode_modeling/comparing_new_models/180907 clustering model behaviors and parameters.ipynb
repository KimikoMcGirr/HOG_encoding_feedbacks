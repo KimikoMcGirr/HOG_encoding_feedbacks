{
 "cells": [
  {
   "cell_type": "code",
   "execution_count": 1,
   "metadata": {
    "ExecuteTime": {
     "end_time": "2018-09-07T16:41:17.614360Z",
     "start_time": "2018-09-07T16:41:16.093500Z"
    },
    "collapsed": true
   },
   "outputs": [],
   "source": [
    "import scipy.cluster.hierarchy as hac\n",
    "from scipy.spatial.distance import pdist"
   ]
  },
  {
   "cell_type": "code",
   "execution_count": null,
   "metadata": {
    "collapsed": true
   },
   "outputs": [],
   "source": []
  },
  {
   "cell_type": "code",
   "execution_count": null,
   "metadata": {
    "collapsed": true
   },
   "outputs": [],
   "source": [
    "# signal separated\n",
    "df_wt = []\n",
    "df_t100a = []\n",
    "for idx, sig in enumerate(params_constants[-1]):\n",
    "    _data = []\n",
    "    for params in top_params:\n",
    "        params_c = params_constants[:-1]+[sig]\n",
    "        data = simulate_wt_experiment(initals, params_c, params, time)\n",
    "        active = (data[:,2] + data[:,3])/params_constants[2]*100\n",
    "        _data.append(active)\n",
    "#         plt.plot(time, active, color=color_palette[idx])\n",
    "    # ax1.set_ylim(0, 100)\n",
    "#         plt.xlim(0,60)\n",
    "#     plt.show()\n",
    "    df_wt.append(_data)\n",
    "    _data = []\n",
    "    for params in top_params:\n",
    "        params_c = params_constants[:-1]+[sig]\n",
    "        data = simulate_t100a_experiment(initals, params_c, params, time)\n",
    "        active = (data[:,2] + data[:,3])/params_constants[2]*100\n",
    "        _data.append(active)\n",
    "#         plt.plot(time, active, color=color_palette[idx])\n",
    "    # ax1.set_ylim(0, 100)\n",
    "#         plt.xlim(0,60)\n",
    "    df_t100a.append(_data)\n",
    "headers = ['wt 0','wt 150','wt 250','wt 350','wt 450','wt 550','t100a 0','t100a 150','t100a 250','t100a 350','t100a 450','t100a 550']\n",
    "# df = pd.DataFrame(df, columns = headers)\n",
    "# df.head()\n",
    "\n",
    "# signal concatenated\n",
    "df_data = []\n",
    "for params in top_params:\n",
    "    _data = []\n",
    "    for idx, sig in enumerate(params_constants[-1]):\n",
    "        params_c = params_constants[:-1]+[sig]\n",
    "        data = simulate_wt_experiment(initals, params_c, params, time)\n",
    "        active = (data[:,2] + data[:,3])/params_constants[2]*100\n",
    "        _data = np.concatenate((_data,active))\n",
    "#         plt.plot(time, active, color=color_palette[idx])\n",
    "    # ax1.set_ylim(0, 100)\n",
    "#         plt.xlim(0,60)\n",
    "#     plt.show()\n",
    "#     df_wt.append(_data)\n",
    "#     _data = []\n",
    "    for idx, sig in enumerate(params_constants[-1]):\n",
    "        params_c = params_constants[:-1]+[sig]\n",
    "        data = simulate_t100a_experiment(initals, params_c, params, time)\n",
    "        active = (data[:,2] + data[:,3])/params_constants[2]*100\n",
    "        _data = np.concatenate((_data,active))\n",
    "#         plt.plot(time, active, color=color_palette[idx])\n",
    "    # ax1.set_ylim(0, 100)\n",
    "#         plt.xlim(0,60)\n",
    "    df_data.append(_data)\n",
    "# headers = ['wt 0','wt 150','wt 250','wt 350','wt 450','wt 550','t100a 0','t100a 150','t100a 250','t100a 350','t100a 450','t100a 550']\n",
    "df = pd.DataFrame(df_data)\n",
    "df.head()"
   ]
  }
 ],
 "metadata": {
  "hide_input": false,
  "kernelspec": {
   "display_name": "Python 3",
   "language": "python",
   "name": "python3"
  },
  "language_info": {
   "codemirror_mode": {
    "name": "ipython",
    "version": 3
   },
   "file_extension": ".py",
   "mimetype": "text/x-python",
   "name": "python",
   "nbconvert_exporter": "python",
   "pygments_lexer": "ipython3",
   "version": "3.6.2"
  },
  "latex_envs": {
   "LaTeX_envs_menu_present": true,
   "autocomplete": true,
   "bibliofile": "biblio.bib",
   "cite_by": "apalike",
   "current_citInitial": 1,
   "eqLabelWithNumbers": true,
   "eqNumInitial": 1,
   "hotkeys": {
    "equation": "Ctrl-E",
    "itemize": "Ctrl-I"
   },
   "labels_anchors": false,
   "latex_user_defs": false,
   "report_style_numbering": false,
   "user_envs_cfg": false
  },
  "toc": {
   "colors": {
    "hover_highlight": "#DAA520",
    "navigate_num": "#000000",
    "navigate_text": "#333333",
    "running_highlight": "#FF0000",
    "selected_highlight": "#FFD700",
    "sidebar_border": "#EEEEEE",
    "wrapper_background": "#FFFFFF"
   },
   "moveMenuLeft": true,
   "nav_menu": {
    "height": "12px",
    "width": "252px"
   },
   "navigate_menu": true,
   "number_sections": true,
   "sideBar": true,
   "threshold": 4,
   "toc_cell": false,
   "toc_section_display": "block",
   "toc_window_display": false,
   "widenNotebook": false
  }
 },
 "nbformat": 4,
 "nbformat_minor": 2
}
