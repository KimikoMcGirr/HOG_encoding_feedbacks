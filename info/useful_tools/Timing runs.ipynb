{
 "cells": [
  {
   "cell_type": "code",
   "execution_count": 13,
   "metadata": {
    "ExecuteTime": {
     "end_time": "2018-11-12T19:52:07.481844Z",
     "start_time": "2018-11-12T19:52:07.469877Z"
    }
   },
   "outputs": [],
   "source": [
    "import timeit\n",
    "from scipy.integrate import odeint\n",
    "import numpy as np\n",
    "\n",
    "def wrapper(func, *args, **kwargs):\n",
    "    def wrapped():\n",
    "        return func(*args, **kwargs)\n",
    "    return wrapped\n",
    "\n",
    "def b3_aN_1D_X(initals,t,params_constants,params):\n",
    "    MAP3K, MAP2K, MAPK, X = initals\n",
    "    MAP3K_t, MAP2K_t, MAPK_t, s = params_constants\n",
    "    beta_3, k1, k3, k5, s7, k2, k4, k6, d8, K_1, K_3, K_5, K_2, K_4, K_6 = params\n",
    "\n",
    "    MAP3K_I = MAP3K_t-MAP3K\n",
    "    MAP2K_I = MAP2K_t-MAP2K\n",
    "    MAPK_I = MAPK_t-MAPK\n",
    "\n",
    "    dMAP3K = (s/(1+X/beta_3)) * (((k1)*MAP3K_I)/(K_1+MAP3K_I)) - (k2*MAP3K/(K_2+MAP3K))\n",
    "    dMAP2K = (((k3*MAP3K)*MAP2K_I)/(K_3+MAP2K_I)) - (k4*MAP2K/(K_4+MAP2K))\n",
    "    dMAPK = (((k5*MAP2K)*MAPK_I)/(K_5+MAPK_I)) - (k6*MAPK/(K_6+MAPK))\n",
    "    dX = s7*MAPK - d8*X\n",
    "    # dY = ((k9*X*Y_I) / (K_9+Y_I)) - (k10*Y/(K_10+Y))\n",
    "\n",
    "    return dMAP3K, dMAP2K, dMAPK, dX\n",
    "\n",
    "def molarity_conversion(molecules):\n",
    "    Na = 6.02214076*10**23\n",
    "    cell_volume = 44\n",
    "    return molecules/(Na*cell_volume*10**-15)*1000000\n",
    "\n",
    "# folder = 'C:/Users/sksuzuki/Desktop/killdevil/from/scripts/synth_deg/181025_b3_1D_aN/'\n",
    "\n",
    "# run_name = 'b3_1D_aN'\n",
    "# gen = 500\n",
    "# runs = 2000\n",
    "\n",
    "MAP3K = 0\n",
    "MAP2K = 0\n",
    "MAPK = 0\n",
    "X = 0\n",
    "\n",
    "MAP3K_t = molarity_conversion(1170)\n",
    "MAP2K_t = molarity_conversion(2282)\n",
    "MAPK_t = molarity_conversion(5984)\n",
    "X_t = 1\n",
    "\n",
    "s = [0, 50000, 150000, 250000, 350000, 450000, 550000]\n",
    "\n",
    "\n",
    "initals = [MAP3K, MAP2K, MAPK, X]\n",
    "params_constants = [MAP3K_t, MAP2K_t, MAPK_t, s] \n",
    "    \n",
    "n = 10000\n",
    "\n",
    "top_params =  [0.0018344519432365659,\n",
    " 0.17222122355108851,\n",
    " 0.2630381173366963,\n",
    " 1909.030462338599,\n",
    " 0.0019470297966127919,\n",
    " 3802.575449435126,\n",
    " 0.006140080086439441,\n",
    " 600.4662882013449,\n",
    " 0.00034578767064608013,\n",
    " 0.16698844378010325,\n",
    " 0.020536144303401855,\n",
    " 8.18862731393022,\n",
    " 0.00014042759534343039,\n",
    " 0.0038635175481479015,\n",
    " 862.014267182399]"
   ]
  },
  {
   "cell_type": "code",
   "execution_count": 16,
   "metadata": {
    "ExecuteTime": {
     "end_time": "2018-11-12T19:55:07.509079Z",
     "start_time": "2018-11-12T19:54:51.451802Z"
    }
   },
   "outputs": [
    {
     "data": {
      "text/plain": [
       "0.0016049866291305193"
      ]
     },
     "execution_count": 16,
     "metadata": {},
     "output_type": "execute_result"
    }
   ],
   "source": [
    "tps = np.array([0,2,5,10,15,20,25,30,60])\n",
    "wrapped = wrapper(odeint, b3_aN_1D_X, initals, tps, args=(params_constants[:-1]+[s[1]], top_params))\n",
    "timeit.timeit(wrapped, number = n)/n"
   ]
  },
  {
   "cell_type": "code",
   "execution_count": 17,
   "metadata": {
    "ExecuteTime": {
     "end_time": "2018-11-12T19:56:03.565238Z",
     "start_time": "2018-11-12T19:55:43.158637Z"
    }
   },
   "outputs": [
    {
     "data": {
      "text/plain": [
       "0.0020400749985481498"
      ]
     },
     "execution_count": 17,
     "metadata": {},
     "output_type": "execute_result"
    }
   ],
   "source": [
    "dt = 0.1\n",
    "steps = 600\n",
    "time = np.linspace(0,dt*steps,steps)\n",
    "\n",
    "wrapped = wrapper(odeint, b3_aN_1D_X, initals, time, args=(params_constants[:-1]+[s[1]], top_params))\n",
    "timeit.timeit(wrapped, number = n)/n"
   ]
  },
  {
   "cell_type": "code",
   "execution_count": null,
   "metadata": {},
   "outputs": [],
   "source": []
  }
 ],
 "metadata": {
  "hide_input": false,
  "kernelspec": {
   "display_name": "Python 3",
   "language": "python",
   "name": "python3"
  },
  "language_info": {
   "codemirror_mode": {
    "name": "ipython",
    "version": 3
   },
   "file_extension": ".py",
   "mimetype": "text/x-python",
   "name": "python",
   "nbconvert_exporter": "python",
   "pygments_lexer": "ipython3",
   "version": "3.6.6"
  },
  "latex_envs": {
   "LaTeX_envs_menu_present": true,
   "autocomplete": true,
   "bibliofile": "biblio.bib",
   "cite_by": "apalike",
   "current_citInitial": 1,
   "eqLabelWithNumbers": true,
   "eqNumInitial": 1,
   "hotkeys": {
    "equation": "Ctrl-E",
    "itemize": "Ctrl-I"
   },
   "labels_anchors": false,
   "latex_user_defs": false,
   "report_style_numbering": false,
   "user_envs_cfg": false
  },
  "toc": {
   "colors": {
    "hover_highlight": "#DAA520",
    "navigate_num": "#000000",
    "navigate_text": "#333333",
    "running_highlight": "#FF0000",
    "selected_highlight": "#FFD700",
    "sidebar_border": "#EEEEEE",
    "wrapper_background": "#FFFFFF"
   },
   "moveMenuLeft": true,
   "nav_menu": {
    "height": "12px",
    "width": "252px"
   },
   "navigate_menu": true,
   "number_sections": true,
   "sideBar": true,
   "threshold": 4,
   "toc_cell": false,
   "toc_section_display": "block",
   "toc_window_display": false,
   "widenNotebook": false
  }
 },
 "nbformat": 4,
 "nbformat_minor": 2
}
