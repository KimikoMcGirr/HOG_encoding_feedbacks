{
 "cells": [
  {
   "cell_type": "markdown",
   "metadata": {},
   "source": [
    "# Import packages and set settings"
   ]
  },
  {
   "cell_type": "code",
   "execution_count": 1,
   "metadata": {
    "ExecuteTime": {
     "end_time": "2020-01-24T17:18:35.657225Z",
     "start_time": "2020-01-24T17:18:33.055435Z"
    }
   },
   "outputs": [],
   "source": [
    "%load_ext autoreload\n",
    "%autoreload 2\n",
    "\n",
    "import sys\n",
    "# sys.path.insert(1, './python_mods/')\n",
    "sys.path.insert(1, '../../python_modules')\n",
    "import plotting\n",
    "import model_supp \n",
    "import model"
   ]
  },
  {
   "cell_type": "code",
   "execution_count": 2,
   "metadata": {
    "ExecuteTime": {
     "end_time": "2020-01-24T17:18:36.102522Z",
     "start_time": "2020-01-24T17:18:35.774634Z"
    }
   },
   "outputs": [],
   "source": [
    "%matplotlib inline\n",
    "import pathlib\n",
    "import seaborn as sns\n",
    "import matplotlib.pyplot as plt\n",
    "import pickle\n",
    "import numpy as np\n",
    "import pandas as pd\n",
    "import os\n",
    "import collections\n",
    "import h5py"
   ]
  },
  {
   "cell_type": "code",
   "execution_count": 3,
   "metadata": {
    "ExecuteTime": {
     "end_time": "2020-01-24T17:18:36.338620Z",
     "start_time": "2020-01-24T17:18:36.207970Z"
    }
   },
   "outputs": [],
   "source": [
    "# plt.style.use(\"seaborn-whitegrid\")\n",
    "plt.rcParams['figure.figsize'] = [10.0, 8.0]\n",
    "plt.rcParams['axes.titlesize'] = 20\n",
    "plt.rcParams['axes.labelsize'] = 18\n",
    "plt.rcParams['xtick.labelsize'] = 14\n",
    "plt.rcParams['ytick.labelsize'] = 14\n",
    "plt.rcParams['grid.linestyle'] = '-'\n",
    "plt.rcParams['legend.fontsize'] = 14\n",
    "colors = [i['color'] for i in plt.rcParams['axes.prop_cycle']]"
   ]
  },
  {
   "cell_type": "markdown",
   "metadata": {
    "ExecuteTime": {
     "end_time": "2019-12-21T00:46:35.138967Z",
     "start_time": "2019-12-21T00:46:34.987335Z"
    }
   },
   "source": [
    "# Model"
   ]
  },
  {
   "cell_type": "markdown",
   "metadata": {},
   "source": [
    "## Model Functions"
   ]
  },
  {
   "cell_type": "code",
   "execution_count": null,
   "metadata": {},
   "outputs": [],
   "source": [
    "def model():\n",
    "    return"
   ]
  },
  {
   "cell_type": "markdown",
   "metadata": {},
   "source": [
    "## Model Variables (Constants)"
   ]
  },
  {
   "cell_type": "code",
   "execution_count": 17,
   "metadata": {
    "ExecuteTime": {
     "end_time": "2020-01-24T17:25:18.161363Z",
     "start_time": "2020-01-24T17:25:18.037695Z"
    }
   },
   "outputs": [],
   "source": [
    "dt = 0.1\n",
    "steps = 601\n",
    "time = np.linspace(0,dt*steps,steps)\n",
    "\n",
    "\n",
    "MAP3K_t = model_supp.molarity_conversion(701)\n",
    "MAP2K_t = model_supp.molarity_conversion(2282)\n",
    "MAPK_t = model_supp.molarity_conversion(5984)\n",
    "PTP_t = model_supp.molarity_conversion(118+400)\n",
    "\n",
    "MAP3K = 0.05*MAP3K_t # estimated (so not 0)\n",
    "MAP2K = 0.05975380333*MAP2K_t # from the biological data\n",
    "MAPK = 0.00540042381*MAPK_t  # from the biological data\n",
    "gly = 0.00001 # placeholder (so not 0)\n",
    "PTP = model_supp.molarity_conversion(118+400) # start with all on\n",
    "\n",
    "\n",
    "labelnames = ['$- fb$', '$+ fb$', '$kb$',\n",
    "              '$k_1$', '$k_3$', '$k_5$', \n",
    "              '$k_2$', '$k_4$', '$k_6$', \n",
    "              '$K_{M1}$', '$K_{M3}$', '$K_{M5}$',\n",
    "              '$K_{M2}$', '$K_{M4}$', '$K_{M6}$']\n",
    "\n",
    "minimums = [-4, -4, -4,\n",
    "    -4, -4, -4, -4,\n",
    "    -4, -4, -4, -4,\n",
    "    -4, -4, -4, -4\n",
    "    ]\n",
    "\n",
    "maximums = [ 4, 4, 4,\n",
    "    4, 4, 4, 4,\n",
    "    4, 4, 4, 4,\n",
    "    4, 4, 4, 4\n",
    "    ]\n",
    "\n",
    "diff = np.asarray(maximums)-np.asarray(minimums) #for plotting\n",
    "dims = (diff, minimums) #for plotting\n",
    "\n",
    "initials = [MAP3K, MAP2K, MAPK]\n",
    "params_constants = [MAP3K_t, MAP2K_t, MAPK_t, 1] #uM, except for gly (1) which is a placeholder for multiplying arrays together\n",
    "\n",
    "doses = [0, 50000, 150000, 250000, 350000, 450000, 550000]"
   ]
  },
  {
   "cell_type": "code",
   "execution_count": null,
   "metadata": {},
   "outputs": [],
   "source": []
  }
 ],
 "metadata": {
  "hide_input": false,
  "kernelspec": {
   "display_name": "Python 3",
   "language": "python",
   "name": "python3"
  },
  "language_info": {
   "codemirror_mode": {
    "name": "ipython",
    "version": 3
   },
   "file_extension": ".py",
   "mimetype": "text/x-python",
   "name": "python",
   "nbconvert_exporter": "python",
   "pygments_lexer": "ipython3",
   "version": "3.6.6"
  },
  "latex_envs": {
   "LaTeX_envs_menu_present": true,
   "autocomplete": true,
   "bibliofile": "biblio.bib",
   "cite_by": "apalike",
   "current_citInitial": 1,
   "eqLabelWithNumbers": true,
   "eqNumInitial": 1,
   "hotkeys": {
    "equation": "Ctrl-E",
    "itemize": "Ctrl-I"
   },
   "labels_anchors": false,
   "latex_user_defs": false,
   "report_style_numbering": false,
   "user_envs_cfg": false
  },
  "toc": {
   "colors": {
    "hover_highlight": "#DAA520",
    "navigate_num": "#000000",
    "navigate_text": "#333333",
    "running_highlight": "#FF0000",
    "selected_highlight": "#FFD700",
    "sidebar_border": "#EEEEEE",
    "wrapper_background": "#FFFFFF"
   },
   "moveMenuLeft": true,
   "nav_menu": {
    "height": "84px",
    "width": "252px"
   },
   "navigate_menu": true,
   "number_sections": true,
   "sideBar": true,
   "threshold": 4,
   "toc_cell": false,
   "toc_section_display": "block",
   "toc_window_display": false,
   "widenNotebook": false
  },
  "varInspector": {
   "cols": {
    "lenName": 16,
    "lenType": 16,
    "lenVar": 40
   },
   "kernels_config": {
    "python": {
     "delete_cmd_postfix": "",
     "delete_cmd_prefix": "del ",
     "library": "var_list.py",
     "varRefreshCmd": "print(var_dic_list())"
    },
    "r": {
     "delete_cmd_postfix": ") ",
     "delete_cmd_prefix": "rm(",
     "library": "var_list.r",
     "varRefreshCmd": "cat(var_dic_list()) "
    }
   },
   "types_to_exclude": [
    "module",
    "function",
    "builtin_function_or_method",
    "instance",
    "_Feature"
   ],
   "window_display": false
  }
 },
 "nbformat": 4,
 "nbformat_minor": 2
}
